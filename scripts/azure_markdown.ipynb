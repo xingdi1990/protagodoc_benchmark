{
 "cells": [
  {
   "cell_type": "code",
   "execution_count": null,
   "id": "23d5d61b",
   "metadata": {},
   "outputs": [
    {
     "ename": "ImportError",
     "evalue": "cannot import name 'DocumentAnalysisClient' from 'azure.ai.documentintelligence' (/Users/xingdi/miniconda3/envs/benchmark/lib/python3.10/site-packages/azure/ai/documentintelligence/__init__.py)",
     "output_type": "error",
     "traceback": [
      "\u001b[0;31m---------------------------------------------------------------------------\u001b[0m",
      "\u001b[0;31mImportError\u001b[0m                               Traceback (most recent call last)",
      "Cell \u001b[0;32mIn[2], line 4\u001b[0m\n\u001b[1;32m      2\u001b[0m \u001b[38;5;28;01mimport\u001b[39;00m\u001b[38;5;250m \u001b[39m\u001b[38;5;21;01mos\u001b[39;00m\n\u001b[1;32m      3\u001b[0m \u001b[38;5;28;01mfrom\u001b[39;00m\u001b[38;5;250m \u001b[39m\u001b[38;5;21;01mdotenv\u001b[39;00m\u001b[38;5;250m \u001b[39m\u001b[38;5;28;01mimport\u001b[39;00m load_dotenv\n\u001b[0;32m----> 4\u001b[0m \u001b[38;5;28;01mfrom\u001b[39;00m\u001b[38;5;250m \u001b[39m\u001b[38;5;21;01mazure\u001b[39;00m\u001b[38;5;21;01m.\u001b[39;00m\u001b[38;5;21;01mai\u001b[39;00m\u001b[38;5;21;01m.\u001b[39;00m\u001b[38;5;21;01mdocumentintelligence\u001b[39;00m\u001b[38;5;250m \u001b[39m\u001b[38;5;28;01mimport\u001b[39;00m DocumentAnalysisClient\n\u001b[1;32m      5\u001b[0m \u001b[38;5;28;01mfrom\u001b[39;00m\u001b[38;5;250m \u001b[39m\u001b[38;5;21;01mazure\u001b[39;00m\u001b[38;5;21;01m.\u001b[39;00m\u001b[38;5;21;01mai\u001b[39;00m\u001b[38;5;21;01m.\u001b[39;00m\u001b[38;5;21;01mdocumentintelligence\u001b[39;00m\u001b[38;5;21;01m.\u001b[39;00m\u001b[38;5;21;01mmodels\u001b[39;00m\u001b[38;5;250m \u001b[39m\u001b[38;5;28;01mimport\u001b[39;00m DocumentContentFormat\n\u001b[1;32m      6\u001b[0m \u001b[38;5;28;01mfrom\u001b[39;00m\u001b[38;5;250m \u001b[39m\u001b[38;5;21;01mazure\u001b[39;00m\u001b[38;5;21;01m.\u001b[39;00m\u001b[38;5;21;01mcore\u001b[39;00m\u001b[38;5;21;01m.\u001b[39;00m\u001b[38;5;21;01mcredentials\u001b[39;00m\u001b[38;5;250m \u001b[39m\u001b[38;5;28;01mimport\u001b[39;00m AzureKeyCredential\n",
      "\u001b[0;31mImportError\u001b[0m: cannot import name 'DocumentAnalysisClient' from 'azure.ai.documentintelligence' (/Users/xingdi/miniconda3/envs/benchmark/lib/python3.10/site-packages/azure/ai/documentintelligence/__init__.py)"
     ]
    }
   ],
   "source": [
    "from pathlib import Path\n",
    "import os\n",
    "from dotenv import load_dotenv\n",
    "from azure.ai.documentintelligence import DocumentIntelligenceClient\n",
    "from azure.ai.documentintelligence.models import DocumentContentFormat\n",
    "from azure.core.credentials import AzureKeyCredential\n",
    "\n",
    "# Load environment variables from .env file\n",
    "load_dotenv()\n",
    "\n",
    "# 🔒 Don’t hardcode secrets; use env vars instead\n",
    "endpoint = os.getenv(\"AZURE_DI_ENDPOINT\", \"https://<your-resource>.cognitiveservices.azure.com/\")\n",
    "key = os.getenv(\"AZURE_DI_KEY\", \"<your-key>\")\n",
    "\n",
    "pdf_path = Path(\"/Users/xingdi/Documents/protagodoc_benchmark/datasets/orbit_v1/pdf/f_0AibR1dz.pdf\")\n",
    "\n",
    "client = DocumentIntelligenceClient(endpoint=endpoint, credential=AzureKeyCredential(key))\n",
    "\n",
    "with pdf_path.open(\"rb\") as f:\n",
    "    poller = client.begin_analyze_document(\n",
    "        model_id=\"prebuilt-layout\",\n",
    "        document=f,  # <-- file handle is fine here\n",
    "        output_content_format=DocumentContentFormat.MARKDOWN,\n",
    "    )\n",
    "\n",
    "result = poller.result()\n",
    "print(result.content)\n",
    "\n",
    "# Save to a file\n",
    "out_md = pdf_path.with_suffix(\".md\")\n",
    "out_md.write_text(result.content or \"\", encoding=\"utf-8\")\n",
    "print(f\"Saved Markdown to: {out_md}\")"
   ]
  },
  {
   "cell_type": "code",
   "execution_count": null,
   "id": "adc80053",
   "metadata": {},
   "outputs": [],
   "source": []
  }
 ],
 "metadata": {
  "kernelspec": {
   "display_name": "benchmark",
   "language": "python",
   "name": "python3"
  },
  "language_info": {
   "codemirror_mode": {
    "name": "ipython",
    "version": 3
   },
   "file_extension": ".py",
   "mimetype": "text/x-python",
   "name": "python",
   "nbconvert_exporter": "python",
   "pygments_lexer": "ipython3",
   "version": "3.10.18"
  }
 },
 "nbformat": 4,
 "nbformat_minor": 5
}
